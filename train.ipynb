{
 "cells": [
  {
   "cell_type": "markdown",
   "id": "99b1cd93-8eaa-4ec5-9ad5-0637f1060e65",
   "metadata": {},
   "source": [
    "#### Use this Notebook to train the model on Colab. We will need a .py file if we want to train on Clusters later (colab credits can run out anytime)"
   ]
  },
  {
   "cell_type": "code",
   "execution_count": 1,
   "id": "5a557f9c-5c49-402c-8b3b-8e3c5ef7960b",
   "metadata": {},
   "outputs": [],
   "source": [
    "%%capture\n",
    "!pip install tensorboard\n",
    "import torch\n",
    "from torch import nn\n",
    "from data.dataset import ImageDataset\n",
    "from models.UNet_provided import UNet\n",
    "from utils import train, accuracy_fn, patch_accuracy_fn"
   ]
  },
  {
   "cell_type": "code",
   "execution_count": 2,
   "id": "3f25d09e-0f14-4c00-a763-05b83101e77e",
   "metadata": {},
   "outputs": [],
   "source": [
    "data_dir = '/Users/sebastian/University/Master/second_term/cil/road-segmentation/data/training'"
   ]
  },
  {
   "cell_type": "code",
   "execution_count": 3,
   "id": "6ab5fa31-adb8-468c-88db-68d8eb966611",
   "metadata": {},
   "outputs": [],
   "source": [
    "device = 'cuda' if torch.cuda.is_available() else 'cpu'"
   ]
  },
  {
   "cell_type": "code",
   "execution_count": 5,
   "id": "dfa2787c-ff90-4bb4-ae0d-abcc61d813b2",
   "metadata": {},
   "outputs": [],
   "source": [
    "# Interestinly there was a mistake in the provided notebook, instead of bool True/False they used strings which are always True -> no validation set\n",
    "train_dataset = ImageDataset(data_dir, True, device, use_patches=False, resize_to=(384, 384))\n",
    "val_dataset = ImageDataset(data_dir, False, device, use_patches=False, resize_to=(384, 384))\n",
    "train_dataloader = torch.utils.data.DataLoader(train_dataset, batch_size=4, shuffle=True)\n",
    "val_dataloader = torch.utils.data.DataLoader(val_dataset, batch_size=4, shuffle=True)"
   ]
  },
  {
   "cell_type": "code",
   "execution_count": 6,
   "id": "1f327b9e-c790-4ac5-b620-8cb232afbd16",
   "metadata": {},
   "outputs": [],
   "source": [
    "model = UNet().to(device)\n",
    "loss_fn = nn.BCELoss()\n",
    "metric_fns = {'acc': accuracy_fn, 'patch_acc': patch_accuracy_fn}\n",
    "optimizer = torch.optim.Adam(model.parameters())\n",
    "n_epochs = 5"
   ]
  },
  {
   "cell_type": "code",
   "execution_count": null,
   "id": "fb80b18e-6028-4082-9c51-5c498dc094a3",
   "metadata": {},
   "outputs": [
    {
     "name": "stderr",
     "output_type": "stream",
     "text": [
      "Epoch 1/5: 100%|█| 29/29 [06:26<00:00, 13.32s/it, loss=0.44, acc=0.807, patch_ac\n"
     ]
    }
   ],
   "source": [
    "train(train_dataloader, val_dataloader, model, loss_fn, metric_fns, optimizer, n_epochs)"
   ]
  },
  {
   "cell_type": "code",
   "execution_count": null,
   "id": "7cdba23c-f981-4589-8148-abfe4072480c",
   "metadata": {},
   "outputs": [],
   "source": []
  }
 ],
 "metadata": {
  "kernelspec": {
   "display_name": "Python 3 (ipykernel)",
   "language": "python",
   "name": "python3"
  },
  "language_info": {
   "codemirror_mode": {
    "name": "ipython",
    "version": 3
   },
   "file_extension": ".py",
   "mimetype": "text/x-python",
   "name": "python",
   "nbconvert_exporter": "python",
   "pygments_lexer": "ipython3",
   "version": "3.11.9"
  }
 },
 "nbformat": 4,
 "nbformat_minor": 5
}
